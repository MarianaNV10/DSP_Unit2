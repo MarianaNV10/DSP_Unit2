{
 "cells": [
  {
   "cell_type": "markdown",
   "metadata": {},
   "source": [
    "## Discrete Time Fourier Transform (DTFT)\n",
    "### Mariana Noreña Vásquez\n",
    "### CC 1000411870"
   ]
  },
  {
   "cell_type": "markdown",
   "metadata": {},
   "source": [
    "## Librerías"
   ]
  },
  {
   "cell_type": "code",
   "execution_count": 1,
   "metadata": {},
   "outputs": [],
   "source": [
    "import numpy as np\n",
    "import matplotlib.pyplot as plt\n",
    "import sympy as sym\n",
    "import warnings; warnings.filterwarnings(\"ignore\")\n",
    "\n",
    "%matplotlib inline"
   ]
  },
  {
   "cell_type": "markdown",
   "metadata": {},
   "source": [
    "Se pretende hallar la convolución lineal empleando las siguientes secuencias\n",
    "$$x_{1}[n]=[1,\\vec{0},2]$$\n",
    "$$x_{2}[n]=[4,1,\\vec{0}]$$"
   ]
  },
  {
   "cell_type": "code",
   "execution_count": 2,
   "metadata": {},
   "outputs": [
    {
     "name": "stdout",
     "output_type": "stream",
     "text": [
      "DTFT de x1: 3*exp(1.0*I*w) + 4 + 2*exp(-1.0*I*w)\n",
      "DTFT de x2: 8*exp(1.0*I*w) + 6*exp(2.0*I*w) + 7\n"
     ]
    }
   ],
   "source": [
    "x1 = [3,4,2]\n",
    "x2 = [6,8,7]\n",
    "\n",
    "# Variable simbólica n y w\n",
    "n = sym.symbols('n')\n",
    "w = sym.symbols('w')\n",
    "\n",
    "# Se defina cada una usando la secuencia discreta\n",
    "X1 = x1[0]*sym.exp(-1j*w*(-1))+x1[1]*sym.exp(-1j*w*0)+x1[2]*sym.exp(-1j*w*1)\n",
    "X2 = x2[0]*sym.exp(-1j*w*(-2))+x2[1]*sym.exp(-1j*w*(-1))+x2[2]*sym.exp(-1j*w*0)\n",
    "\n",
    "print(f'DTFT de x1: {X1}')\n",
    "print(f'DTFT de x2: {X2}')"
   ]
  },
  {
   "cell_type": "code",
   "execution_count": 3,
   "metadata": {
    "scrolled": true
   },
   "outputs": [
    {
     "data": {
      "text/latex": [
       "$\\displaystyle 65 e^{1.0 i w} + 48 e^{2.0 i w} + 18 e^{3.0 i w} + 44 + 14 e^{- 1.0 i w}$"
      ],
      "text/plain": [
       "65*exp(1.0*I*w) + 48*exp(2.0*I*w) + 18*exp(3.0*I*w) + 44 + 14*exp(-1.0*I*w)"
      ]
     },
     "execution_count": 3,
     "metadata": {},
     "output_type": "execute_result"
    }
   ],
   "source": [
    "X_n = X1*X2\n",
    "sym.expand(X_n)"
   ]
  },
  {
   "cell_type": "markdown",
   "metadata": {},
   "source": [
    "Organizando la secuencia anterior, se obtiene que la convolución de $x_{1}(n)$ y $x_{2}(n)$ es: $X_n = [18,48,65,\\vec{44},14] $"
   ]
  }
 ],
 "metadata": {
  "kernelspec": {
   "display_name": "Python 3",
   "language": "python",
   "name": "python3"
  },
  "language_info": {
   "codemirror_mode": {
    "name": "ipython",
    "version": 3
   },
   "file_extension": ".py",
   "mimetype": "text/x-python",
   "name": "python",
   "nbconvert_exporter": "python",
   "pygments_lexer": "ipython3",
   "version": "3.7.4"
  }
 },
 "nbformat": 4,
 "nbformat_minor": 2
}
