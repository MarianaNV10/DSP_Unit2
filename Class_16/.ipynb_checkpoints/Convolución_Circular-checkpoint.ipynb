{
 "cells": [
  {
   "cell_type": "markdown",
   "metadata": {},
   "source": [
    "## Convolución Circular\n",
    "### Mariana Noreña Vásquez\n",
    "### CC 1000411870"
   ]
  },
  {
   "cell_type": "markdown",
   "metadata": {},
   "source": [
    "## Librerias"
   ]
  },
  {
   "cell_type": "code",
   "execution_count": 1,
   "metadata": {},
   "outputs": [],
   "source": [
    "import numpy as np\n",
    "import matplotlib.pyplot as plt\n",
    "import warnings; warnings.filterwarnings(\"ignore\")\n",
    "\n",
    "%matplotlib inline"
   ]
  },
  {
   "cell_type": "markdown",
   "metadata": {},
   "source": [
    "$$x_{1}(n)=[\\vec{2},4,6]$$\n",
    "$$x_{2}(n)=[\\vec{-1},0,1]$$"
   ]
  },
  {
   "cell_type": "code",
   "execution_count": 2,
   "metadata": {},
   "outputs": [
    {
     "name": "stdout",
     "output_type": "stream",
     "text": [
      "[ 2.  2. -4.]\n"
     ]
    }
   ],
   "source": [
    "x1 = [2,4,6]\n",
    "x2 = [-1,0,1]\n",
    "\n",
    "X1 = np.fft.fft(x1)\n",
    "X2 = np.fft.fft(x2)\n",
    "\n",
    "conv = np.real(np.fft.ifft(X1*X2))\n",
    "print(conv)"
   ]
  },
  {
   "cell_type": "markdown",
   "metadata": {},
   "source": [
    "- Se observa que la longitud de la convolución circular corresponde a la longitud mayor de ambas secuencias, la cual, en este caso es 3.\n",
    "\n",
    "- Si en dado caso, las secuencias tuvieran longitud diferente, la de menor longitud se completa con ceros hasta tener la longitud de la secuencia mayor"
   ]
  },
  {
   "cell_type": "markdown",
   "metadata": {},
   "source": [
    "$$x_{1}(n)=[\\vec{5},3,0]$$\n",
    "$$x_{2}(n)=[\\vec{-3},-1,0,2]$$"
   ]
  },
  {
   "cell_type": "code",
   "execution_count": 3,
   "metadata": {},
   "outputs": [
    {
     "name": "stdout",
     "output_type": "stream",
     "text": [
      "[5. 3. 0. 0.]\n",
      "[-3 -1  0  2]\n"
     ]
    }
   ],
   "source": [
    "x1 = np.array([5,3,0])\n",
    "x2 = np.array([-3,-1,0,2])\n",
    "\n",
    "if len(x1) < len(x2):\n",
    "    x1 = np.concatenate((x1,np.zeros(len(x2)-len(x1))), axis=0)\n",
    "elif len(x1) > len(x2):\n",
    "    x2 = np.concatenate((x2,np.zeros(len(x1)-len(x2))), axis=0)\n",
    "\n",
    "print(x1)\n",
    "print(x2)"
   ]
  },
  {
   "cell_type": "code",
   "execution_count": 4,
   "metadata": {},
   "outputs": [
    {
     "name": "stdout",
     "output_type": "stream",
     "text": [
      "[ -9. -14.  -3.  10.]\n"
     ]
    }
   ],
   "source": [
    "X1 = np.fft.fft(x1)\n",
    "X2 = np.fft.fft(x2)\n",
    "\n",
    "conv = np.real(np.fft.ifft(X1*X2))\n",
    "print(conv)"
   ]
  }
 ],
 "metadata": {
  "kernelspec": {
   "display_name": "Python 3",
   "language": "python",
   "name": "python3"
  },
  "language_info": {
   "codemirror_mode": {
    "name": "ipython",
    "version": 3
   },
   "file_extension": ".py",
   "mimetype": "text/x-python",
   "name": "python",
   "nbconvert_exporter": "python",
   "pygments_lexer": "ipython3",
   "version": "3.7.4"
  }
 },
 "nbformat": 4,
 "nbformat_minor": 2
}
