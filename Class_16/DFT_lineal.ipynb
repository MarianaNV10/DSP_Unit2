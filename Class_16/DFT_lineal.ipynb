{
 "cells": [
  {
   "cell_type": "markdown",
   "metadata": {},
   "source": [
    "## DFT en filtrado lineal\n",
    "### Mariana Noreña Vásquez\n",
    "### CC 1000411870"
   ]
  },
  {
   "cell_type": "code",
   "execution_count": 1,
   "metadata": {},
   "outputs": [],
   "source": [
    "import numpy as np\n",
    "import matplotlib.pyplot as plt\n",
    "import warnings; warnings.filterwarnings(\"ignore\")\n",
    "\n",
    "from IPython.display import clear_output\n",
    "\n",
    "%matplotlib inline"
   ]
  },
  {
   "cell_type": "code",
   "execution_count": 2,
   "metadata": {},
   "outputs": [],
   "source": [
    "def power_of_two(n):\n",
    "    '''Función que determina si un número es potencia de 2'''\n",
    "    return not((n != 0) and (n&(n-1) == 0))"
   ]
  },
  {
   "cell_type": "code",
   "execution_count": 3,
   "metadata": {},
   "outputs": [],
   "source": [
    "def complete_sec(a,b):\n",
    "    '''Función que recibe dos secuencias y las completa con ceros acorde a Y>=L+M-1'''\n",
    "    \n",
    "    lenC = len(a)+len(b)-1 \n",
    "    print(f'Y >= {lenC}')\n",
    "    print('Elegir un valor para la longitud de Y en potencias de 2')\n",
    "    long = int(input('Digite el valor: '))\n",
    "    \n",
    "    while (long < lenC) or (power_of_two(long)):\n",
    "        print(f'Debe ser un valor >= a {lenC} en potencias de 2')\n",
    "        long = int(input('Digite el valor: '))\n",
    "        \n",
    "    a = np.concatenate((a,np.zeros(long-len(a))), axis=0)\n",
    "    b = np.concatenate((b,np.zeros(long-len(b))), axis=0)\n",
    "    clear_output()\n",
    "    \n",
    "    return a,b, lenC"
   ]
  },
  {
   "cell_type": "markdown",
   "metadata": {},
   "source": [
    "$$x(n)=[\\vec{1},5,4,3]$$\n",
    "$$h(n)=[\\vec{1},3,4]$$"
   ]
  },
  {
   "cell_type": "code",
   "execution_count": 4,
   "metadata": {},
   "outputs": [
    {
     "name": "stdout",
     "output_type": "stream",
     "text": [
      "Longitud de la salida Y>=6\n",
      "Al agregar los ceros las secuencias quedan así: \n",
      "x:[1. 5. 4. 3. 0. 0. 0. 0.]\n",
      "h:[1. 3. 5. 0. 0. 0. 0. 0.]\n"
     ]
    }
   ],
   "source": [
    "x = np.array([1,5,4,3])\n",
    "h = np.array([1,3,5])\n",
    "x,h, lenY = complete_sec(x,h)\n",
    "print(f'Longitud de la salida Y>={lenY}')\n",
    "print(f'Al agregar los ceros las secuencias quedan así: \\nx:{x}\\nh:{h}')"
   ]
  },
  {
   "cell_type": "code",
   "execution_count": 5,
   "metadata": {
    "scrolled": true
   },
   "outputs": [
    {
     "name": "stdout",
     "output_type": "stream",
     "text": [
      "DFT de x: [13.        +0.j          2.41421356-9.65685425j -3.        -2.j\n",
      " -0.41421356-1.65685425j -3.        +0.j         -0.41421356+1.65685425j\n",
      " -3.        +2.j          2.41421356+9.65685425j]\n",
      "\n",
      "DFT de h: [ 9.        +0.j          3.12132034-7.12132034j -4.        -3.j\n",
      " -1.12132034+2.87867966j  3.        +0.j         -1.12132034-2.87867966j\n",
      " -4.        +3.j          3.12132034+7.12132034j]\n",
      "\n",
      "DFT de y: \n",
      "[117.         +0.j         -61.23401872-47.33452378j\n",
      "   6.        +17.j           5.23401872 +0.66547622j\n",
      "  -9.         +0.j           5.23401872 -0.66547622j\n",
      "   6.        -17.j         -61.23401872+47.33452378j]\n",
      "\n",
      "\n",
      "Salida del sistema: \n",
      "[ 1.00000000e+00  8.00000000e+00  2.40000000e+01  4.00000000e+01\n",
      "  2.90000000e+01  1.50000000e+01 -1.77635684e-15  0.00000000e+00]\n"
     ]
    }
   ],
   "source": [
    "# Calcular la DTFT de cada secuencia\n",
    "X = np.fft.fft(x)\n",
    "H = np.fft.fft(h)\n",
    "Y = X*H\n",
    "y = np.real(np.fft.ifft(Y)) # Se obtiene la convolución lineal\n",
    "\n",
    "print(f'DFT de x: {X}\\n')\n",
    "print(f'DFT de h: {H}\\n')\n",
    "print(f'DFT de y: \\n{Y}\\n')\n",
    "print(f'\\nSalida del sistema: \\n{y}') #Convolución lineal"
   ]
  },
  {
   "cell_type": "markdown",
   "metadata": {},
   "source": [
    "Organizando el resultado, para este caso se tiene que: $y(n)=[\\vec{1},8,24,40,29,15,0,0]$"
   ]
  },
  {
   "cell_type": "markdown",
   "metadata": {},
   "source": [
    "Como se tiene que $Y \\geq L+M-1$, en la salida del sistema se encuentra que para las posiciones $\\geq L+M-1$ el valor correspondiente es cero y es esto se evidencia en el anterior calculo realizado puesto que al escoger $Y=8$ las posiciones 6 y 7 son cero."
   ]
  },
  {
   "cell_type": "markdown",
   "metadata": {},
   "source": [
    "$$x(n)=[\\vec{10},11,22]$$\n",
    "$$h(n)=[\\vec{2},3,4]$$"
   ]
  },
  {
   "cell_type": "code",
   "execution_count": 6,
   "metadata": {},
   "outputs": [
    {
     "name": "stdout",
     "output_type": "stream",
     "text": [
      "Longitud de la salida Y>=3\n",
      "Al agregar los ceros las secuencias quedan así: \n",
      "x:[10. 22.  0.  0.]\n",
      "h:[2. 4. 0. 0.]\n"
     ]
    }
   ],
   "source": [
    "x = np.array([10,22])\n",
    "h = np.array([2,4])\n",
    "x,h, lenY = complete_sec(x,h)\n",
    "print(f'Longitud de la salida Y>={lenY}')\n",
    "print(f'Al agregar los ceros las secuencias quedan así: \\nx:{x}\\nh:{h}')"
   ]
  },
  {
   "cell_type": "code",
   "execution_count": 7,
   "metadata": {
    "scrolled": true
   },
   "outputs": [
    {
     "name": "stdout",
     "output_type": "stream",
     "text": [
      "DFT de x: [ 32. +0.j  10.-22.j -12. +0.j  10.+22.j]\n",
      "\n",
      "DFT de h: [ 6.+0.j  2.-4.j -2.+0.j  2.+4.j]\n",
      "\n",
      "DFT de y: \n",
      "[192. +0.j -68.-84.j  24. -0.j -68.+84.j]\n",
      "\n",
      "\n",
      "Salida del sistema: \n",
      "[20. 84. 88.  0.]\n"
     ]
    }
   ],
   "source": [
    "# Calcular la DTFT de cada secuencia\n",
    "X = np.fft.fft(x)\n",
    "H = np.fft.fft(h)\n",
    "Y = X*H\n",
    "y = np.real(np.fft.ifft(Y)) # Se obtiene la convolución lineal\n",
    "\n",
    "print(f'DFT de x: {X}\\n')\n",
    "print(f'DFT de h: {H}\\n')\n",
    "print(f'DFT de y: \\n{Y}\\n')\n",
    "print(f'\\nSalida del sistema: \\n{y}') #Convolución lineal"
   ]
  }
 ],
 "metadata": {
  "kernelspec": {
   "display_name": "Python 3",
   "language": "python",
   "name": "python3"
  },
  "language_info": {
   "codemirror_mode": {
    "name": "ipython",
    "version": 3
   },
   "file_extension": ".py",
   "mimetype": "text/x-python",
   "name": "python",
   "nbconvert_exporter": "python",
   "pygments_lexer": "ipython3",
   "version": "3.7.4"
  }
 },
 "nbformat": 4,
 "nbformat_minor": 2
}
